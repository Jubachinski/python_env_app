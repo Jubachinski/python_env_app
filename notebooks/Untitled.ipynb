{
 "cells": [
  {
   "cell_type": "markdown",
   "id": "3070798d-e830-4bed-82f2-e9e62864988e",
   "metadata": {},
   "source": [
    "# Aula 01\n",
    "Nesta aula é apresentado o Jupyter Notebook e os comandos básicos na interface de programação"
   ]
  },
  {
   "cell_type": "markdown",
   "id": "4ff7a9b3-7d0c-436c-b3fa-f211fcfd2ff8",
   "metadata": {},
   "source": [
    "## comandos básicos e váriaveis"
   ]
  },
  {
   "cell_type": "code",
   "execution_count": 2,
   "id": "054767b8-640e-473e-b6f4-d4728c6b5d77",
   "metadata": {},
   "outputs": [],
   "source": [
    "# Declaração de váriaveis em python \n",
    "a = 1\n",
    "b = 2"
   ]
  },
  {
   "cell_type": "code",
   "execution_count": 7,
   "id": "6925e67a-3a52-4218-91a0-d0c254382a3b",
   "metadata": {},
   "outputs": [
    {
     "name": "stdout",
     "output_type": "stream",
     "text": [
      "a = 1\n",
      "b = 2\n",
      "3\n"
     ]
    }
   ],
   "source": [
    "print(\"a = \" + str(a))\n",
    "print(\"b =\",b)\n",
    "print(a+b)"
   ]
  }
 ],
 "metadata": {
  "kernelspec": {
   "display_name": "Python 3 (ipykernel)",
   "language": "python",
   "name": "python3"
  },
  "language_info": {
   "codemirror_mode": {
    "name": "ipython",
    "version": 3
   },
   "file_extension": ".py",
   "mimetype": "text/x-python",
   "name": "python",
   "nbconvert_exporter": "python",
   "pygments_lexer": "ipython3",
   "version": "3.13.7"
  }
 },
 "nbformat": 4,
 "nbformat_minor": 5
}
